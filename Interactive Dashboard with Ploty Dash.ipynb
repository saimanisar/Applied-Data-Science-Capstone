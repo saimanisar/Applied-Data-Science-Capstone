{
 "cells": [
  {
   "cell_type": "code",
   "execution_count": 2,
   "metadata": {},
   "outputs": [
    {
     "name": "stdout",
     "output_type": "stream",
     "text": [
      "Requirement already satisfied: dash in c:\\users\\user\\appdata\\local\\programs\\python\\python310\\lib\\site-packages (2.14.1)Note: you may need to restart the kernel to use updated packages.\n"
     ]
    },
    {
     "name": "stderr",
     "output_type": "stream",
     "text": [
      "\n",
      "[notice] A new release of pip is available: 23.1.2 -> 23.3.1\n",
      "[notice] To update, run: python.exe -m pip install --upgrade pip\n"
     ]
    },
    {
     "name": "stdout",
     "output_type": "stream",
     "text": [
      "\n",
      "Requirement already satisfied: Flask<3.1,>=1.0.4 in c:\\users\\user\\appdata\\local\\programs\\python\\python310\\lib\\site-packages (from dash) (2.3.2)\n",
      "Requirement already satisfied: Werkzeug<3.1 in c:\\users\\user\\appdata\\local\\programs\\python\\python310\\lib\\site-packages (from dash) (2.3.3)\n",
      "Requirement already satisfied: plotly>=5.0.0 in c:\\users\\user\\appdata\\local\\programs\\python\\python310\\lib\\site-packages (from dash) (5.18.0)\n",
      "Requirement already satisfied: dash-html-components==2.0.0 in c:\\users\\user\\appdata\\local\\programs\\python\\python310\\lib\\site-packages (from dash) (2.0.0)\n",
      "Requirement already satisfied: dash-core-components==2.0.0 in c:\\users\\user\\appdata\\local\\programs\\python\\python310\\lib\\site-packages (from dash) (2.0.0)\n",
      "Requirement already satisfied: dash-table==5.0.0 in c:\\users\\user\\appdata\\local\\programs\\python\\python310\\lib\\site-packages (from dash) (5.0.0)\n",
      "Requirement already satisfied: typing-extensions>=4.1.1 in c:\\users\\user\\appdata\\local\\programs\\python\\python310\\lib\\site-packages (from dash) (4.5.0)\n",
      "Requirement already satisfied: requests in c:\\users\\user\\appdata\\local\\programs\\python\\python310\\lib\\site-packages (from dash) (2.31.0)\n",
      "Requirement already satisfied: retrying in c:\\users\\user\\appdata\\local\\programs\\python\\python310\\lib\\site-packages (from dash) (1.3.4)\n",
      "Requirement already satisfied: ansi2html in c:\\users\\user\\appdata\\local\\programs\\python\\python310\\lib\\site-packages (from dash) (1.8.0)\n",
      "Requirement already satisfied: nest-asyncio in c:\\users\\user\\appdata\\roaming\\python\\python310\\site-packages (from dash) (1.5.6)\n",
      "Requirement already satisfied: setuptools in c:\\users\\user\\appdata\\local\\programs\\python\\python310\\lib\\site-packages (from dash) (63.2.0)\n",
      "Requirement already satisfied: importlib-metadata in c:\\users\\user\\appdata\\local\\programs\\python\\python310\\lib\\site-packages (from dash) (6.8.0)\n",
      "Requirement already satisfied: Jinja2>=3.1.2 in c:\\users\\user\\appdata\\local\\programs\\python\\python310\\lib\\site-packages (from Flask<3.1,>=1.0.4->dash) (3.1.2)\n",
      "Requirement already satisfied: itsdangerous>=2.1.2 in c:\\users\\user\\appdata\\local\\programs\\python\\python310\\lib\\site-packages (from Flask<3.1,>=1.0.4->dash) (2.1.2)\n",
      "Requirement already satisfied: click>=8.1.3 in c:\\users\\user\\appdata\\local\\programs\\python\\python310\\lib\\site-packages (from Flask<3.1,>=1.0.4->dash) (8.1.3)\n",
      "Requirement already satisfied: blinker>=1.6.2 in c:\\users\\user\\appdata\\local\\programs\\python\\python310\\lib\\site-packages (from Flask<3.1,>=1.0.4->dash) (1.6.2)\n",
      "Requirement already satisfied: tenacity>=6.2.0 in c:\\users\\user\\appdata\\local\\programs\\python\\python310\\lib\\site-packages (from plotly>=5.0.0->dash) (8.2.3)\n",
      "Requirement already satisfied: packaging in c:\\users\\user\\appdata\\roaming\\python\\python310\\site-packages (from plotly>=5.0.0->dash) (23.0)\n",
      "Requirement already satisfied: MarkupSafe>=2.1.1 in c:\\users\\user\\appdata\\local\\programs\\python\\python310\\lib\\site-packages (from Werkzeug<3.1->dash) (2.1.2)\n",
      "Requirement already satisfied: zipp>=0.5 in c:\\users\\user\\appdata\\local\\programs\\python\\python310\\lib\\site-packages (from importlib-metadata->dash) (3.17.0)\n",
      "Requirement already satisfied: charset-normalizer<4,>=2 in c:\\users\\user\\appdata\\local\\programs\\python\\python310\\lib\\site-packages (from requests->dash) (3.1.0)\n",
      "Requirement already satisfied: idna<4,>=2.5 in c:\\users\\user\\appdata\\local\\programs\\python\\python310\\lib\\site-packages (from requests->dash) (3.4)\n",
      "Requirement already satisfied: urllib3<3,>=1.21.1 in c:\\users\\user\\appdata\\local\\programs\\python\\python310\\lib\\site-packages (from requests->dash) (2.0.2)\n",
      "Requirement already satisfied: certifi>=2017.4.17 in c:\\users\\user\\appdata\\local\\programs\\python\\python310\\lib\\site-packages (from requests->dash) (2023.5.7)\n",
      "Requirement already satisfied: six>=1.7.0 in c:\\users\\user\\appdata\\roaming\\python\\python310\\site-packages (from retrying->dash) (1.16.0)\n",
      "Requirement already satisfied: colorama in c:\\users\\user\\appdata\\roaming\\python\\python310\\site-packages (from click>=8.1.3->Flask<3.1,>=1.0.4->dash) (0.4.6)\n"
     ]
    }
   ],
   "source": [
    "%pip install dash"
   ]
  },
  {
   "cell_type": "code",
   "execution_count": 3,
   "metadata": {},
   "outputs": [
    {
     "name": "stderr",
     "output_type": "stream",
     "text": [
      "C:\\Users\\User\\AppData\\Local\\Temp\\ipykernel_5792\\238301849.py:4: UserWarning: \n",
      "The dash_html_components package is deprecated. Please replace\n",
      "`import dash_html_components as html` with `from dash import html`\n",
      "  import dash_html_components as html\n",
      "C:\\Users\\User\\AppData\\Local\\Temp\\ipykernel_5792\\238301849.py:5: UserWarning: \n",
      "The dash_core_components package is deprecated. Please replace\n",
      "`import dash_core_components as dcc` with `from dash import dcc`\n",
      "  import dash_core_components as dcc\n"
     ]
    }
   ],
   "source": [
    "# Import required libraries\n",
    "import pandas as pd\n",
    "import dash \n",
    "import dash_html_components as html\n",
    "import dash_core_components as dcc\n",
    "from dash.dependencies import Input, Output\n",
    "import plotly.express as px"
   ]
  },
  {
   "cell_type": "code",
   "execution_count": 4,
   "metadata": {},
   "outputs": [],
   "source": [
    "# Read the airline data into pandas dataframe\n",
    "spacex_df = pd.read_csv('https://cf-courses-data.s3.us.cloud-object-storage.appdomain.cloud/IBM-DS0321EN-SkillsNetwork/datasets/spacex_launch_dash.csv', \n",
    "                            encoding = \"ISO-8859-1\",\n",
    "                            dtype={'Div1Airport': str, 'Div1TailNum': str, \n",
    "                                   'Div2Airport': str, 'Div2TailNum': str})\n",
    "\n",
    "max_payload = spacex_df['Payload Mass (kg)'].max()\n",
    "min_payload = spacex_df['Payload Mass (kg)'].min()\n",
    "\n",
    "# Create a dash application\n",
    "app = dash.Dash(__name__)"
   ]
  },
  {
   "cell_type": "code",
   "execution_count": 5,
   "metadata": {},
   "outputs": [],
   "source": [
    "# Create an app layout\n",
    "app.layout = html.Div(children=[html.H1('SpaceX Launch Records Dashboard',\n",
    "                                        style={'textAlign': 'center', 'color': '#503D36',\n",
    "                                               'font-size': 40}),\n",
    "                                # TASK 1: Add a dropdown list to enable Launch Site selection\n",
    "                                # The default select value is for ALL sites\n",
    "                                # dcc.Dropdown(id='site-dropdown',...)\n",
    "                                \n",
    "                                  dcc.Dropdown(id='site-dropdown',\n",
    "                                    options=[\n",
    "                                            {'label': 'All Sites', 'value': 'ALL'},\n",
    "                                            {'label': 'CCAFS LC-40', 'value': 'CCAFS LC-40'},\n",
    "                                            {'label': 'CCAFS SLC-40', 'value': 'CCAFS SLC-40'},\n",
    "                                            {'label': 'KSC LC-39A', 'value': 'KSC LC-39A'},\n",
    "                                            {'label': 'VAFB SLC-4E', 'value': 'VAFB SLC-4E'}\n",
    "                                            ],\n",
    "                                    value='ALL',\n",
    "                                    placeholder=\"Select a Launch Site here\",\n",
    "                                    searchable=True\n",
    "                                 ),\n",
    "                                html.Br(),\n",
    "                                # TASK 2: Add a pie chart to show the total successful launches count for all sites\n",
    "                                # If a specific launch site was selected, show the Success vs. Failed counts for the site\n",
    "                                html.Div(dcc.Graph(id='success-pie-chart')),\n",
    "                                html.Br(),\n",
    "\n",
    "                                html.P(\"Payload range (Kg):\"),\n",
    "                                # TASK 3: Add a slider to select payload range\n",
    "                                dcc.RangeSlider(id='payload-slider',\n",
    "                                    min=0, max=10000, step=1000,\n",
    "                                    marks={0: '0', 1000: '1000', 2000: '2000', 3000: '3000', 4000: '4000', 5000: '5000', 6000: '6000', \n",
    "                                    7000: '7000', 8000: '8000', 9000: '9000', 10000: '10000'}, \n",
    "                                    value=[min_payload, max_payload]),\n",
    "\n",
    "                                # TASK 4: Add a scatter chart to show the correlation between payload and launch success\n",
    "                                html.Div(dcc.Graph(id='success-payload-scatter-chart')),\n",
    "                                ])"
   ]
  },
  {
   "cell_type": "code",
   "execution_count": 6,
   "metadata": {},
   "outputs": [],
   "source": [
    "# TASK 3:\n",
    "# Ad# Function decorator to specify function input and output\n",
    "@app.callback(Output(component_id='success-pie-chart', component_property='figure'),\n",
    "              Input(component_id='site-dropdown', component_property='value'))\n",
    "              \n",
    "def get_pie_chart(entered_site):\n",
    "    filtered_df = spacex_df[spacex_df['class'] == 1]\n",
    "    if entered_site == 'ALL':\n",
    "        fig = px.pie(filtered_df,\n",
    "        values = 'class',\n",
    "        names='Launch Site', \n",
    "        title='Total Success Launces By All Sites')\n",
    "        return fig\n",
    "    else:\n",
    "        specific_site = spacex_df[spacex_df['Launch Site'] == entered_site]\n",
    "        fig = px.pie (specific_site,\n",
    "        names = 'class',\n",
    "        title = 'Launch status by: ' + entered_site)\n",
    "        return fig\n",
    "        # return the outcomes piechart for a selected site"
   ]
  },
  {
   "cell_type": "code",
   "execution_count": 7,
   "metadata": {},
   "outputs": [
    {
     "data": {
      "text/html": [
       "\n",
       "        <iframe\n",
       "            width=\"100%\"\n",
       "            height=\"650\"\n",
       "            src=\"http://127.0.0.1:8050/\"\n",
       "            frameborder=\"0\"\n",
       "            allowfullscreen\n",
       "            \n",
       "        ></iframe>\n",
       "        "
      ],
      "text/plain": [
       "<IPython.lib.display.IFrame at 0x1b98ffcee00>"
      ]
     },
     "metadata": {},
     "output_type": "display_data"
    }
   ],
   "source": [
    "                             \n",
    "# TASK 4:\n",
    "# Add a callback function for `site-dropdown` and `payload-slider` as inputs, `success-payload-scatter-chart` as output\n",
    "@app.callback(Output(component_id='success-payload-scatter-chart', component_property='figure'),\n",
    "              Input(component_id='site-dropdown', component_property='value'),\n",
    "              Input(component_id=\"payload-slider\", component_property=\"value\"))\n",
    "\n",
    "def get_scatter_slider_chart(entered_site, payload_slider):\n",
    "    lowPayload, highPayload = payload_slider\n",
    "    filtered_df = spacex_df[(spacex_df['Payload Mass (kg)'] > lowPayload) & (spacex_df['Payload Mass (kg)'] < highPayload)]\n",
    "    if entered_site == 'ALL':\n",
    "        fig = px.scatter(filtered_df, \n",
    "        x = 'Payload Mass (kg)',\n",
    "        y = 'class',\n",
    "        color = 'Booster Version Category',\n",
    "        title = 'Correlation Between Payload and Mission Outcomes For All Sites')\n",
    "        return fig\n",
    "    else:\n",
    "        fig = px.scatter(filtered_df[filtered_df['Launch Site'] == entered_site],\n",
    "        x = 'Payload Mass (kg)',\n",
    "        y = 'class',\n",
    "        color = 'Booster Version Category',\n",
    "        title = 'Correlation Between Payload And Mission Outcomes for: ' + entered_site)\n",
    "        return fig\n",
    "\n",
    "# Run the app\n",
    "if __name__ == '__main__':\n",
    "    app.run_server()"
   ]
  },
  {
   "cell_type": "code",
   "execution_count": null,
   "metadata": {},
   "outputs": [],
   "source": []
  }
 ],
 "metadata": {
  "kernelspec": {
   "display_name": "Python 3",
   "language": "python",
   "name": "python3"
  },
  "language_info": {
   "codemirror_mode": {
    "name": "ipython",
    "version": 3
   },
   "file_extension": ".py",
   "mimetype": "text/x-python",
   "name": "python",
   "nbconvert_exporter": "python",
   "pygments_lexer": "ipython3",
   "version": "3.10.8"
  }
 },
 "nbformat": 4,
 "nbformat_minor": 2
}
